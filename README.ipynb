{
 "cells": [
  {
   "cell_type": "markdown",
   "metadata": {},
   "source": [
    "# xtuples\n",
    "\n",
    "[![PyPI - Version](https://img.shields.io/pypi/v/xtuples.svg)](https://pypi.org/project/xtuples)\n",
    "[![PyPI - Python Version](https://img.shields.io/pypi/pyversions/xtuples.svg)](https://pypi.org/project/xtuples)"
   ]
  },
  {
   "cell_type": "markdown",
   "metadata": {},
   "source": [
    "\n",
    "-----"
   ]
  },
  {
   "cell_type": "markdown",
   "metadata": {},
   "source": [
    "**Table of Contents**\n",
    "\n",
    "- [Installation](#installation)\n",
    "- [Overview](#overview)\n",
    "- [Examples](#examples)\n",
    "- [Performance](#performance)\n",
    "- [JSON](#xtuples.json)\n",
    "- [License](#license)"
   ]
  },
  {
   "cell_type": "markdown",
   "metadata": {},
   "source": [
    "## Installation\n",
    "\n",
    "```console\n",
    "pip install xtuples\n",
    "```"
   ]
  },
  {
   "cell_type": "markdown",
   "metadata": {},
   "source": [
    "## Overview"
   ]
  },
  {
   "cell_type": "markdown",
   "metadata": {},
   "source": [
    "xtuples is designed to make functional programming easier in Python.\n",
    "\n",
    "In particular, it is designed to enable one to mimic the function pipelines seen in languages like f#, but using method chaining.\n",
    "\n",
    "The two key constructs are:\n",
    "\n",
    "- xtuples.iTuple: a base class for iterable data types, equipped with methods like .map() .filter() and .fold().\n",
    "\n",
    "- xuples.nTuple.decorate: a decorator to inject .pipe() and .partial() into user-defined NamedTuples (as we can't subclass them directly).\n",
    "\n",
    "Taken together, these tend to lead us away from inheritance, and more towards composition: to a code base comprised entirely of either free functions, or (immutable) data structures implemented using either of the above."
   ]
  },
  {
   "cell_type": "markdown",
   "metadata": {
    "tags": []
   },
   "source": [
    "## Examples"
   ]
  },
  {
   "cell_type": "markdown",
   "metadata": {
    "jp-MarkdownHeadingCollapsed": true,
    "tags": []
   },
   "source": [
    "The value of this approach is best illustrated with a couple of examples."
   ]
  },
  {
   "cell_type": "code",
   "execution_count": 1,
   "metadata": {},
   "outputs": [],
   "source": [
    "from src import xtuples"
   ]
  },
  {
   "cell_type": "code",
   "execution_count": 2,
   "metadata": {},
   "outputs": [],
   "source": [
    "import typing\n",
    "import operator\n",
    "import functools"
   ]
  },
  {
   "cell_type": "markdown",
   "metadata": {
    "jp-MarkdownHeadingCollapsed": true,
    "tags": []
   },
   "source": [
    "For instance, let's imagine that we're reading in a list of prices from a csv file (which we'll mock here for convenience):"
   ]
  },
  {
   "cell_type": "code",
   "execution_count": 3,
   "metadata": {
    "jp-MarkdownHeadingCollapsed": true,
    "tags": []
   },
   "outputs": [],
   "source": [
    "def mock_read_prices():\n",
    "    for ticker, price in {\n",
    "        \"IBM US Equity\": 100,\n",
    "        \"AAPL US Equity\": 105,\n",
    "        \"F US Equity\": 95,\n",
    "    }.items():\n",
    "        yield ticker, price"
   ]
  },
  {
   "cell_type": "markdown",
   "metadata": {
    "jp-MarkdownHeadingCollapsed": true,
    "tags": []
   },
   "source": [
    "We can read each row into a decorated NamedTuple:"
   ]
  },
  {
   "cell_type": "code",
   "execution_count": 4,
   "metadata": {},
   "outputs": [],
   "source": [
    "@xtuples.nTuple.decorate\n",
    "class Ticker_Price(typing.NamedTuple):\n",
    "    ticker: str\n",
    "    price: float"
   ]
  },
  {
   "cell_type": "markdown",
   "metadata": {
    "jp-MarkdownHeadingCollapsed": true,
    "tags": []
   },
   "source": [
    "By mapping over the (mocked) csv file iterator:"
   ]
  },
  {
   "cell_type": "code",
   "execution_count": 5,
   "metadata": {},
   "outputs": [
    {
     "name": "stdout",
     "output_type": "stream",
     "text": [
      "iTuple(Ticker_Price(ticker='IBM US Equity', price=100), Ticker_Price(ticker='AAPL US Equity', price=105), Ticker_Price(ticker='F US Equity', price=95))\n"
     ]
    }
   ],
   "source": [
    "prices = (\n",
    "    xtuples.iTuple(mock_read_prices())\n",
    "    .mapstar(Ticker_Price)\n",
    "    .pipe(print, discard=True)\n",
    ")"
   ]
  },
  {
   "cell_type": "markdown",
   "metadata": {
    "jp-MarkdownHeadingCollapsed": true,
    "tags": []
   },
   "source": [
    "Here, we pipe into but discard the output of print(), so we still get back out and iTuple of Ticker_Prices (even whilst print() would otherwise return None).\n",
    "\n",
    "Let's say that we want to map the prices into some new currency:"
   ]
  },
  {
   "cell_type": "code",
   "execution_count": 6,
   "metadata": {
    "jp-MarkdownHeadingCollapsed": true,
    "tags": []
   },
   "outputs": [],
   "source": [
    "def convert_price(ticker, price, fx):\n",
    "    return price * fx"
   ]
  },
  {
   "cell_type": "markdown",
   "metadata": {
    "jp-MarkdownHeadingCollapsed": true,
    "tags": []
   },
   "source": [
    "We can do this with a combination of .map() and nTuple.replace(), where we again pipe into but discard the output of print():"
   ]
  },
  {
   "cell_type": "code",
   "execution_count": 7,
   "metadata": {
    "jp-MarkdownHeadingCollapsed": true,
    "tags": []
   },
   "outputs": [
    {
     "name": "stdout",
     "output_type": "stream",
     "text": [
      "iTuple(Ticker_Price(ticker='IBM US Equity', price=90.0), Ticker_Price(ticker='AAPL US Equity', price=94.5), Ticker_Price(ticker='F US Equity', price=85.5))\n"
     ]
    }
   ],
   "source": [
    "prices = (\n",
    "    prices.mapstar(functools.partial(convert_price, fx=0.9))\n",
    "    .map(xtuples.nTuple.replace(\"price\"), prices, at = 1)\n",
    "    .pipe(print, discard=True)\n",
    ")"
   ]
  },
  {
   "cell_type": "markdown",
   "metadata": {
    "jp-MarkdownHeadingCollapsed": true,
    "tags": []
   },
   "source": [
    "As one can see, this code is significantly more concise than the canonical for-loop implementation would be."
   ]
  },
  {
   "cell_type": "code",
   "execution_count": 8,
   "metadata": {
    "jp-MarkdownHeadingCollapsed": true,
    "tags": []
   },
   "outputs": [],
   "source": [
    "def f_loop_convert_price(prices, fx):\n",
    "    res = []\n",
    "    for obj in prices:\n",
    "        obj = obj._replace(price=convert_price(ojb.ticker, obj.price, fx))\n",
    "        res.append(obj)\n",
    "    return res\n",
    "# prices = f_loop_conver_price(prices, 0.9)\n",
    "# print(prices)"
   ]
  },
  {
   "cell_type": "markdown",
   "metadata": {
    "jp-MarkdownHeadingCollapsed": true,
    "tags": []
   },
   "source": [
    "Personally, it is also more readable - though that's obviously (to some extent) personal taste."
   ]
  },
  {
   "cell_type": "markdown",
   "metadata": {
    "tags": []
   },
   "source": [
    "## Performance\n",
    "\n",
    "Performance using xtuples should generally be, at worst, not (materially) worse than a non-optimised canonical equivalent (and can sometimes be somewhat better)."
   ]
  },
  {
   "cell_type": "code",
   "execution_count": 9,
   "metadata": {},
   "outputs": [],
   "source": [
    "import dataclasses\n",
    "import collections\n",
    "import functools\n",
    "import itertools\n",
    "import timeit\n",
    "from pympler.asizeof import asizeof"
   ]
  },
  {
   "cell_type": "markdown",
   "metadata": {},
   "source": [
    "### iTuple\n",
    "\n",
    "For instance, iTuple is a relatively minimal wrapper around the built in tuple."
   ]
  },
  {
   "cell_type": "markdown",
   "metadata": {},
   "source": [
    "#### Creation & Memory"
   ]
  },
  {
   "cell_type": "markdown",
   "metadata": {},
   "source": [
    "As such, creation takes a fairly similar time to that of a raw list (a raw tuple would probably be faster):"
   ]
  },
  {
   "cell_type": "code",
   "execution_count": 10,
   "metadata": {},
   "outputs": [
    {
     "name": "stdout",
     "output_type": "stream",
     "text": [
      "1.85 µs ± 26 ns per loop (mean ± std. dev. of 7 runs, 1,000,000 loops each)\n",
      "560 ns ± 2.41 ns per loop (mean ± std. dev. of 7 runs, 1,000,000 loops each)\n"
     ]
    }
   ],
   "source": [
    "%timeit xtuples.iTuple.range(100)\n",
    "%timeit list(range(100))"
   ]
  },
  {
   "cell_type": "markdown",
   "metadata": {},
   "source": [
    "Memory usage is very similar:"
   ]
  },
  {
   "cell_type": "code",
   "execution_count": 11,
   "metadata": {},
   "outputs": [
    {
     "data": {
      "text/plain": [
       "{0: {'iTuple': 280, 'list': 88},\n",
       " 1: {'iTuple': 640, 'list': 448},\n",
       " 2: {'iTuple': 4240, 'list': 4048},\n",
       " 3: {'iTuple': 40240, 'list': 40048},\n",
       " 4: {'iTuple': 400240, 'list': 400048}}"
      ]
     },
     "execution_count": 11,
     "metadata": {},
     "output_type": "execute_result"
    }
   ],
   "source": [
    "memory = {}\n",
    "for i in range(5):\n",
    "    memory[i] = dict(\n",
    "        iTuple=asizeof(xtuples.iTuple.range(10 ** i)),\n",
    "        list=asizeof(list(range(10 ** i))),\n",
    "    )\n",
    "memory"
   ]
  },
  {
   "cell_type": "code",
   "execution_count": 12,
   "metadata": {},
   "outputs": [],
   "source": [
    "ex_iTuple = xtuples.iTuple.range(100)\n",
    "ex_list = list(range(100))\n",
    "ex_range = range(100)"
   ]
  },
  {
   "cell_type": "markdown",
   "metadata": {},
   "source": [
    "#### Iteration & Indexing"
   ]
  },
  {
   "cell_type": "markdown",
   "metadata": {},
   "source": [
    "Iteration is very similar:"
   ]
  },
  {
   "cell_type": "code",
   "execution_count": 13,
   "metadata": {},
   "outputs": [
    {
     "name": "stdout",
     "output_type": "stream",
     "text": [
      "875 ns ± 7.52 ns per loop (mean ± std. dev. of 7 runs, 1,000,000 loops each)\n",
      "713 ns ± 9.48 ns per loop (mean ± std. dev. of 7 runs, 1,000,000 loops each)\n"
     ]
    }
   ],
   "source": [
    "%timeit for x in ex_iTuple: pass\n",
    "%timeit for x in ex_list: pass"
   ]
  },
  {
   "cell_type": "markdown",
   "metadata": {},
   "source": [
    "And whilst elementwise indexing is clearly slower (although referencing the .data field directly is not too far behind):"
   ]
  },
  {
   "cell_type": "code",
   "execution_count": 14,
   "metadata": {},
   "outputs": [
    {
     "name": "stdout",
     "output_type": "stream",
     "text": [
      "11.1 µs ± 198 ns per loop (mean ± std. dev. of 7 runs, 100,000 loops each)\n",
      "4.58 µs ± 66.8 ns per loop (mean ± std. dev. of 7 runs, 100,000 loops each)\n",
      "3.18 µs ± 41.8 ns per loop (mean ± std. dev. of 7 runs, 100,000 loops each)\n"
     ]
    }
   ],
   "source": [
    "%timeit for i in range(100): ex_iTuple[i]\n",
    "%timeit for i in range(100): ex_iTuple.data[i]\n",
    "%timeit for i in range(100): ex_list[i]"
   ]
  },
  {
   "cell_type": "markdown",
   "metadata": {},
   "source": [
    "And so is slice indexing:"
   ]
  },
  {
   "cell_type": "code",
   "execution_count": 15,
   "metadata": {},
   "outputs": [
    {
     "name": "stdout",
     "output_type": "stream",
     "text": [
      "165 ns ± 0.993 ns per loop (mean ± std. dev. of 7 runs, 10,000,000 loops each)\n",
      "98.9 ns ± 0.787 ns per loop (mean ± std. dev. of 7 runs, 10,000,000 loops each)\n",
      "96.1 ns ± 1.07 ns per loop (mean ± std. dev. of 7 runs, 10,000,000 loops each)\n"
     ]
    }
   ],
   "source": [
    "%timeit ex_iTuple[10:20]\n",
    "%timeit ex_iTuple.data[10:20]\n",
    "%timeit ex_list[10:20]"
   ]
  },
  {
   "cell_type": "markdown",
   "metadata": {},
   "source": [
    "It is worth noting that per element indexing is not all that common using xtuples (as the canonical implementation is much more likely to use .map() and co)."
   ]
  },
  {
   "cell_type": "markdown",
   "metadata": {},
   "source": [
    "#### Append / Extend"
   ]
  },
  {
   "cell_type": "markdown",
   "metadata": {},
   "source": [
    "Appending is *much* slower, which is clearly to some extent a 'gotcha'."
   ]
  },
  {
   "cell_type": "code",
   "execution_count": 16,
   "metadata": {},
   "outputs": [
    {
     "name": "stdout",
     "output_type": "stream",
     "text": [
      "1.86 µs ± 14.6 ns per loop (mean ± std. dev. of 7 runs, 1,000,000 loops each)\n",
      "67.5 ns ± 4.63 ns per loop (mean ± std. dev. of 7 runs, 10,000,000 loops each)\n"
     ]
    }
   ],
   "source": [
    "%timeit ex_iTuple.append(1)\n",
    "%timeit ex_list.append(1)"
   ]
  },
  {
   "cell_type": "markdown",
   "metadata": {},
   "source": [
    "Having said that, the canonical xtuples implementation is much more likely to use .map() .foldcum() or similar than .append().\n",
    "\n",
    "And, as you can see below, .map() and .foldcum() are actually *faster* than the for-loop & append() implementations.\n",
    "\n",
    "So, as with elementwise indexing, in the context of a canonical implementation of an entire function, performance is generally on par (if not better) with xtuples as with the equivalent built-ins."
   ]
  },
  {
   "cell_type": "markdown",
   "metadata": {},
   "source": [
    "Prepending to the tuple is *much* faster than with the list, though the relevant comparison is probably a deque (given that list is not at all optimised for left-append):"
   ]
  },
  {
   "cell_type": "code",
   "execution_count": 17,
   "metadata": {},
   "outputs": [
    {
     "name": "stdout",
     "output_type": "stream",
     "text": [
      "1.77 µs ± 13.2 ns per loop (mean ± std. dev. of 7 runs, 1,000,000 loops each)\n",
      "113 ms ± 4.71 ms per loop (mean ± std. dev. of 7 runs, 10 loops each)\n"
     ]
    }
   ],
   "source": [
    "%timeit ex_iTuple.prepend(1)\n",
    "%timeit ex_list.insert(0, 1)"
   ]
  },
  {
   "cell_type": "markdown",
   "metadata": {},
   "source": [
    "Extend is somewhat slower (but is nowhere near as bad as append):"
   ]
  },
  {
   "cell_type": "code",
   "execution_count": 18,
   "metadata": {},
   "outputs": [
    {
     "name": "stdout",
     "output_type": "stream",
     "text": [
      "6.07 µs ± 85.2 ns per loop (mean ± std. dev. of 7 runs, 100,000 loops each)\n",
      "8.79 µs ± 139 ns per loop (mean ± std. dev. of 7 runs, 100,000 loops each)\n",
      "749 ns ± 3.83 ns per loop (mean ± std. dev. of 7 runs, 1,000,000 loops each)\n",
      "1.44 µs ± 11.6 ns per loop (mean ± std. dev. of 7 runs, 1,000,000 loops each)\n"
     ]
    }
   ],
   "source": [
    "%timeit xtuples.iTuple.range(100).extend([1])\n",
    "%timeit xtuples.iTuple.range(100).extend(list(range(100)))\n",
    "%timeit list(range(100)).extend([1])\n",
    "%timeit list(range(100)).extend(list(range(100)))"
   ]
  },
  {
   "cell_type": "markdown",
   "metadata": {},
   "source": [
    "And flatten is *much* faster:"
   ]
  },
  {
   "cell_type": "code",
   "execution_count": 19,
   "metadata": {},
   "outputs": [
    {
     "name": "stdout",
     "output_type": "stream",
     "text": [
      "6.95 µs ± 266 ns per loop (mean ± std. dev. of 7 runs, 100,000 loops each)\n",
      "22.8 s ± 1.49 s per loop (mean ± std. dev. of 7 runs, 1 loop each)\n",
      "45.8 s ± 5.07 s per loop (mean ± std. dev. of 7 runs, 1 loop each)\n"
     ]
    }
   ],
   "source": [
    "ex_iTuple_nested = ex_iTuple.map(lambda v: [v])\n",
    "ex_list_nested = [[v] for v in ex_list]\n",
    "\n",
    "def f_loop_flatten(l):\n",
    "    for v in l:\n",
    "        yield from v\n",
    "\n",
    "%timeit ex_iTuple_nested.flatten()\n",
    "%timeit list(f_loop_flatten(ex_list_nested))\n",
    "%timeit list(itertools.chain(*ex_list_nested))"
   ]
  },
  {
   "cell_type": "markdown",
   "metadata": {},
   "source": [
    "#### Function application"
   ]
  },
  {
   "cell_type": "markdown",
   "metadata": {},
   "source": [
    "Finally, elementwise function application with .map() is *much* faster than the equivalent loop or list comprehension:"
   ]
  },
  {
   "cell_type": "code",
   "execution_count": 20,
   "metadata": {},
   "outputs": [
    {
     "name": "stdout",
     "output_type": "stream",
     "text": [
      "6.87 µs ± 389 ns per loop (mean ± std. dev. of 7 runs, 100,000 loops each)\n",
      "8.54 s ± 65.5 ms per loop (mean ± std. dev. of 7 runs, 1 loop each)\n",
      "6.02 s ± 47.4 ms per loop (mean ± std. dev. of 7 runs, 1 loop each)\n",
      "4.76 s ± 62.7 ms per loop (mean ± std. dev. of 7 runs, 1 loop each)\n"
     ]
    }
   ],
   "source": [
    "add_2 = functools.partial(operator.add, 2)\n",
    "\n",
    "def f_loop_map(f, l):\n",
    "    res = []\n",
    "    for v in l:\n",
    "        res.append(f(v))\n",
    "    return res\n",
    "\n",
    "%timeit ex_iTuple.map(add_2)\n",
    "%timeit f_loop_map(add_2, ex_list)\n",
    "%timeit [add_2(x) for x in ex_list]\n",
    "%timeit list(map(add_2, ex_list))"
   ]
  },
  {
   "cell_type": "markdown",
   "metadata": {},
   "source": [
    "As is elementwise filtering:"
   ]
  },
  {
   "cell_type": "code",
   "execution_count": 21,
   "metadata": {},
   "outputs": [
    {
     "name": "stdout",
     "output_type": "stream",
     "text": [
      "11.7 µs ± 146 ns per loop (mean ± std. dev. of 7 runs, 100,000 loops each)\n",
      "6.9 s ± 18.2 ms per loop (mean ± std. dev. of 7 runs, 1 loop each)\n",
      "7.23 s ± 39.3 ms per loop (mean ± std. dev. of 7 runs, 1 loop each)\n"
     ]
    }
   ],
   "source": [
    "def f_loop_filter(f):\n",
    "    res = []\n",
    "    for i in ex_list:\n",
    "        if f(i):\n",
    "            res.append(i)\n",
    "    return res\n",
    "\n",
    "f = lambda x: x % 2 == 0\n",
    "\n",
    "%timeit ex_iTuple.filter(f)\n",
    "%timeit f_loop_filter(f)\n",
    "%timeit [v for v in ex_list if f(v)]"
   ]
  },
  {
   "cell_type": "markdown",
   "metadata": {},
   "source": [
    "And, so are both fold and cumulative fold:"
   ]
  },
  {
   "cell_type": "code",
   "execution_count": 22,
   "metadata": {},
   "outputs": [
    {
     "name": "stdout",
     "output_type": "stream",
     "text": [
      "3.03 µs ± 18.6 ns per loop (mean ± std. dev. of 7 runs, 100,000 loops each)\n",
      "5.21 s ± 3.05 ms per loop (mean ± std. dev. of 7 runs, 1 loop each)\n"
     ]
    }
   ],
   "source": [
    "def f_loop_fold():\n",
    "    acc = 0\n",
    "    for i in ex_list:\n",
    "        acc = operator.add(acc, i)\n",
    "    return acc\n",
    "\n",
    "%timeit ex_iTuple.fold(operator.add)\n",
    "%timeit f_loop_fold()"
   ]
  },
  {
   "cell_type": "markdown",
   "metadata": {},
   "source": [
    "Hence, as mentioned above, the answer to the poor .append() performance is often just to use .foldcum() instead:"
   ]
  },
  {
   "cell_type": "code",
   "execution_count": 23,
   "metadata": {},
   "outputs": [
    {
     "name": "stdout",
     "output_type": "stream",
     "text": [
      "7.08 µs ± 34 ns per loop (mean ± std. dev. of 7 runs, 100,000 loops each)\n",
      "11.4 s ± 293 ms per loop (mean ± std. dev. of 7 runs, 1 loop each)\n"
     ]
    }
   ],
   "source": [
    "def f_loop_foldcum():\n",
    "    res = []\n",
    "    acc = 0\n",
    "    for i in ex_list:\n",
    "        acc = operator.add(acc, i)\n",
    "        res.append(acc)\n",
    "    return res\n",
    "\n",
    "%timeit ex_iTuple.foldcum(operator.add)\n",
    "%timeit f_loop_foldcum()"
   ]
  },
  {
   "cell_type": "markdown",
   "metadata": {},
   "source": [
    "#### Summary"
   ]
  },
  {
   "cell_type": "markdown",
   "metadata": {},
   "source": [
    "Overall, iTuple performance and memory usage is comparable - if not better - than a raw list.\n",
    "\n",
    "The one clear weak point is .append().\n",
    "\n",
    "But, *if used as intended*, the canonical xtuples implementation would instead likely be using .map() .foldcum() and co.\n",
    "\n",
    "Given that .map() .filter() .fold() and .foldcum() are generally *much* faster than the equivalent for loops or list comprehensions, performance is often actually *better* than the equivalent implementation using only built-ins."
   ]
  },
  {
   "cell_type": "markdown",
   "metadata": {
    "tags": []
   },
   "source": [
    "### Eager evaluation\n",
    "\n",
    "The one caveat worth highlighting is that many canonically lazy methods, which would standardly return generators (or similar), are instead treated eagerly - however this is something I am actively working on."
   ]
  },
  {
   "cell_type": "markdown",
   "metadata": {},
   "source": [
    "### Named Tuple\n",
    "\n",
    "nTuple does *not* (in comparison to iTuple) define a base class for us to sub-class.\n",
    "\n",
    "Rather, it provides a decorator - nTuple.decorate - that adds .pipe() and .partial() to user defined NamedTuples.\n",
    "\n",
    "As such, performance is essentially just that of built-in NamedTuples (ie. generally very strong)."
   ]
  },
  {
   "cell_type": "code",
   "execution_count": 24,
   "metadata": {},
   "outputs": [],
   "source": [
    "@xtuples.nTuple.decorate\n",
    "class Example(typing.NamedTuple):\n",
    "    x: int\n",
    "    s: str\n",
    "    \n",
    "class Example_Cls:\n",
    "    x: int\n",
    "    s: str\n",
    "    \n",
    "    def __init__(self, x, s):\n",
    "        self.x = x\n",
    "        self.s = s\n",
    "\n",
    "@dataclasses.dataclass(frozen=True, eq=True)\n",
    "class Example_DC:\n",
    "    x: int\n",
    "    s: str\n",
    "    \n",
    "ex_nTuple = Example(1, \"a\")\n",
    "ex_dict = dict(x=1, s=\"a\")\n",
    "ex_cls = Example_Cls(1, \"a\")\n",
    "ex_dc = Example_DC(1, \"a\")"
   ]
  },
  {
   "cell_type": "markdown",
   "metadata": {},
   "source": [
    "For instance, NamedTuples are significantly more memory efficient than any of the possible alternatives:"
   ]
  },
  {
   "cell_type": "code",
   "execution_count": 25,
   "metadata": {},
   "outputs": [
    {
     "data": {
      "text/plain": [
       "{'nTuple': 144, 'dict': 432, 'cls': 352, 'dataclass': 352}"
      ]
     },
     "execution_count": 25,
     "metadata": {},
     "output_type": "execute_result"
    }
   ],
   "source": [
    "dict(\n",
    "    nTuple=asizeof(ex_nTuple),\n",
    "    dict=asizeof(ex_dict),\n",
    "    cls=asizeof(ex_cls),\n",
    "    dataclass=asizeof(ex_dc),\n",
    ")"
   ]
  },
  {
   "cell_type": "markdown",
   "metadata": {},
   "source": [
    "Whilst providing comparable (if not slightly faster) field access times:"
   ]
  },
  {
   "cell_type": "code",
   "execution_count": 26,
   "metadata": {},
   "outputs": [
    {
     "name": "stdout",
     "output_type": "stream",
     "text": [
      "27.7 ns ± 0.303 ns per loop (mean ± std. dev. of 7 runs, 10,000,000 loops each)\n",
      "25.1 ns ± 0.0815 ns per loop (mean ± std. dev. of 7 runs, 10,000,000 loops each)\n",
      "29.7 ns ± 0.181 ns per loop (mean ± std. dev. of 7 runs, 10,000,000 loops each)\n",
      "30.3 ns ± 0.492 ns per loop (mean ± std. dev. of 7 runs, 10,000,000 loops each)\n",
      "34.9 ns ± 0.125 ns per loop (mean ± std. dev. of 7 runs, 10,000,000 loops each)\n"
     ]
    }
   ],
   "source": [
    "%timeit ex_nTuple.x\n",
    "%timeit ex_nTuple[0]\n",
    "%timeit ex_dict[\"x\"]\n",
    "%timeit ex_cls.x\n",
    "%timeit ex_dc.x"
   ]
  },
  {
   "cell_type": "markdown",
   "metadata": {},
   "source": [
    "Like frozen dataclasses, NamedTuples are conveniently hashable (in comparison to dicts, for instance, which aren't), and do so based on value (versus standard classes which use object ids by default):"
   ]
  },
  {
   "cell_type": "code",
   "execution_count": 27,
   "metadata": {},
   "outputs": [
    {
     "data": {
      "text/plain": [
       "{'nTuple': True, 'cls': False, 'dataclass': True}"
      ]
     },
     "execution_count": 27,
     "metadata": {},
     "output_type": "execute_result"
    }
   ],
   "source": [
    "dict(\n",
    "    nTuple= hash(ex_nTuple) == hash(Example(1, \"a\")),\n",
    "    cls= hash(ex_cls) == hash(Example_Cls(1, \"a\")),\n",
    "    dataclass= hash(ex_dc) == hash(Example_DC(1, \"a\")),\n",
    ")"
   ]
  },
  {
   "cell_type": "markdown",
   "metadata": {},
   "source": [
    "This is particularly useful in combination with iTuple, which is also hashable (making combinations of the two recursively hashable):"
   ]
  },
  {
   "cell_type": "code",
   "execution_count": 28,
   "metadata": {},
   "outputs": [
    {
     "data": {
      "text/plain": [
       "True"
      ]
     },
     "execution_count": 28,
     "metadata": {},
     "output_type": "execute_result"
    }
   ],
   "source": [
    "@xtuples.nTuple.decorate\n",
    "class Example_Nested(typing.NamedTuple):\n",
    "    x: int\n",
    "    s: str\n",
    "    \n",
    "    it: xtuples.iTuple\n",
    "    \n",
    "hash(Example_Nested(1, \"s\", xtuples.iTuple())) == hash(Example_Nested(1, \"s\", xtuples.iTuple()))"
   ]
  },
  {
   "cell_type": "markdown",
   "metadata": {},
   "source": [
    "Finally, sorting is both provided by default (again, in comparison to dicts and classes), and works as one would expect (ie. by the first field, then the second field, and so on):"
   ]
  },
  {
   "cell_type": "code",
   "execution_count": 29,
   "metadata": {},
   "outputs": [
    {
     "data": {
      "text/plain": [
       "iTuple(Example(x=1, s='a'), Example(x=1, s='b'), Example(x=2, s='a'))"
      ]
     },
     "execution_count": 29,
     "metadata": {},
     "output_type": "execute_result"
    }
   ],
   "source": [
    "xtuples.iTuple([\n",
    "    Example(2, \"a\"),\n",
    "    Example(1, \"b\"),\n",
    "    Example(1, \"a\"),\n",
    "]).sort()"
   ]
  },
  {
   "cell_type": "markdown",
   "metadata": {
    "tags": []
   },
   "source": [
    "## xtuples.json\n",
    "\n",
    "xtuples.json provides base classes for weakly-rich json encoding / decoding (rich in that classes are preserved, weak in that this is based on class name alone and no further checks or guarantees are provided)."
   ]
  },
  {
   "cell_type": "markdown",
   "metadata": {
    "tags": []
   },
   "source": [
    "## License\n",
    "\n",
    "`xtuples` is distributed under the terms of the [MIT](https://spdx.org/licenses/MIT.html) license."
   ]
  }
 ],
 "metadata": {
  "interpreter": {
   "hash": "63fd5069d213b44bf678585dea6b12cceca9941eaf7f819626cde1f2670de90d"
  },
  "kernelspec": {
   "display_name": "Python 3 (ipykernel)",
   "language": "python",
   "name": "python3"
  },
  "language_info": {
   "codemirror_mode": {
    "name": "ipython",
    "version": 3
   },
   "file_extension": ".py",
   "mimetype": "text/x-python",
   "name": "python",
   "nbconvert_exporter": "python",
   "pygments_lexer": "ipython3",
   "version": "3.9.0"
  }
 },
 "nbformat": 4,
 "nbformat_minor": 4
}

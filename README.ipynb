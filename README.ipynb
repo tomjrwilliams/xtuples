{
 "cells": [
  {
   "cell_type": "markdown",
   "metadata": {},
   "source": [
    "# xtuples\n",
    "\n",
    "[![PyPI - Version](https://img.shields.io/pypi/v/xtuples.svg)](https://pypi.org/project/xtuples)\n",
    "[![PyPI - Python Version](https://img.shields.io/pypi/pyversions/xtuples.svg)](https://pypi.org/project/xtuples)"
   ]
  },
  {
   "cell_type": "markdown",
   "metadata": {},
   "source": [
    "\n",
    "-----"
   ]
  },
  {
   "cell_type": "markdown",
   "metadata": {},
   "source": [
    "**Table of Contents**\n",
    "\n",
    "- [Installation](#installation)\n",
    "- [License](#license)\n"
   ]
  },
  {
   "cell_type": "markdown",
   "metadata": {},
   "source": [
    "\n",
    "## Installation\n",
    "\n",
    "```console\n",
    "pip install xtuples\n",
    "```"
   ]
  },
  {
   "cell_type": "markdown",
   "metadata": {},
   "source": [
    "## Docs Imports"
   ]
  },
  {
   "cell_type": "code",
   "execution_count": 1,
   "metadata": {},
   "outputs": [],
   "source": [
    "from src import xtuples\n",
    "import importlib"
   ]
  },
  {
   "cell_type": "code",
   "execution_count": 2,
   "metadata": {},
   "outputs": [],
   "source": [
    "import typing\n",
    "import collections\n",
    "import functools\n",
    "import itertools\n",
    "import operator\n",
    "import timeit\n",
    "from pympler.asizeof import asizeof"
   ]
  },
  {
   "cell_type": "markdown",
   "metadata": {},
   "source": [
    "## xtuples"
   ]
  },
  {
   "cell_type": "markdown",
   "metadata": {},
   "source": [
    "xtuples is designed to make functional programming easier in Python.\n",
    "\n",
    "The two key constructs are:\n",
    "\n",
    "- xtuples.iTuple: a base class for iterable data types, equipped with methods like .map(), .fold(), .pipe() and .partial().\n",
    "\n",
    "- xuples.nTuple.decorate: a decorator to inject .pipe() and .partial() into user-defined NamedTuples (as we can't subclass them directly)."
   ]
  },
  {
   "cell_type": "markdown",
   "metadata": {},
   "source": [
    "As briefly demonstrated above, by equipping our data structures with .pipe() and .partial(), we're able to use method chaining to mimic the functional pipelines seen in languages like f#.\n",
    "\n",
    "This then tends to lead us away from inheritance, and more towards composition: to a code base comprised entirely of either free functions, or descendants of either of the above."
   ]
  },
  {
   "cell_type": "markdown",
   "metadata": {},
   "source": [
    "### Performance\n",
    "\n",
    "Performance should generally be at worst, not (materially) worse than a non-optimised canonical equivalent, and in some cases is actually slightly better."
   ]
  },
  {
   "cell_type": "markdown",
   "metadata": {},
   "source": [
    "#### iTuple\n",
    "\n",
    "For instance, iTuple is only a minimal wrapper around the built in tuple.\n",
    "\n",
    "As such, creation takes very similar time to that of a raw list (a raw tuple would possibly be faster):"
   ]
  },
  {
   "cell_type": "code",
   "execution_count": 5,
   "metadata": {},
   "outputs": [
    {
     "name": "stdout",
     "output_type": "stream",
     "text": [
      "10.7 µs ± 2.74 µs per loop (mean ± std. dev. of 7 runs, 100,000 loops each)\n",
      "9.3 µs ± 493 ns per loop (mean ± std. dev. of 7 runs, 100,000 loops each)\n"
     ]
    }
   ],
   "source": [
    "%timeit xtuples.iTuple.range(1000)\n",
    "%timeit list(range(1000))"
   ]
  },
  {
   "cell_type": "markdown",
   "metadata": {},
   "source": [
    "Memory usage is very similar:"
   ]
  },
  {
   "cell_type": "code",
   "execution_count": 6,
   "metadata": {},
   "outputs": [
    {
     "data": {
      "text/plain": [
       "{0: {'iTuple': 448, 'list': 88},\n",
       " 1: {'iTuple': 808, 'list': 448},\n",
       " 2: {'iTuple': 4408, 'list': 4048},\n",
       " 3: {'iTuple': 40408, 'list': 40048},\n",
       " 4: {'iTuple': 400408, 'list': 400048}}"
      ]
     },
     "execution_count": 6,
     "metadata": {},
     "output_type": "execute_result"
    }
   ],
   "source": [
    "memory = {}\n",
    "for i in range(5):\n",
    "    memory[i] = dict(\n",
    "        iTuple=asizeof(xtuples.iTuple.range(10 ** i)),\n",
    "        list=asizeof(list(range(10 ** i))),\n",
    "    )\n",
    "memory"
   ]
  },
  {
   "cell_type": "code",
   "execution_count": 7,
   "metadata": {},
   "outputs": [],
   "source": [
    "ex_iTuple = xtuples.iTuple.range(1000)\n",
    "ex_list = list(range(1000))"
   ]
  },
  {
   "cell_type": "markdown",
   "metadata": {},
   "source": [
    "Iteration is very similar:"
   ]
  },
  {
   "cell_type": "code",
   "execution_count": 8,
   "metadata": {},
   "outputs": [
    {
     "name": "stdout",
     "output_type": "stream",
     "text": [
      "8.68 µs ± 1.02 µs per loop (mean ± std. dev. of 7 runs, 100,000 loops each)\n",
      "9.2 µs ± 1.07 µs per loop (mean ± std. dev. of 7 runs, 100,000 loops each)\n",
      "8.19 µs ± 498 ns per loop (mean ± std. dev. of 7 runs, 100,000 loops each)\n",
      "8.26 µs ± 448 ns per loop (mean ± std. dev. of 7 runs, 100,000 loops each)\n"
     ]
    }
   ],
   "source": [
    "%timeit for x in ex_iTuple: pass\n",
    "%timeit for x in ex_list: pass"
   ]
  },
  {
   "cell_type": "markdown",
   "metadata": {},
   "source": [
    "Though indexing with the .get() method is a little slower (and standard square bracket indexing even slower still - bordering maybe on a gotcha):"
   ]
  },
  {
   "cell_type": "code",
   "execution_count": 9,
   "metadata": {},
   "outputs": [
    {
     "name": "stdout",
     "output_type": "stream",
     "text": [
      "83.9 µs ± 7.72 µs per loop (mean ± std. dev. of 7 runs, 10,000 loops each)\n",
      "58 µs ± 4.19 µs per loop (mean ± std. dev. of 7 runs, 10,000 loops each)\n",
      "35.8 µs ± 3.77 µs per loop (mean ± std. dev. of 7 runs, 10,000 loops each)\n",
      "196 µs ± 3.85 µs per loop (mean ± std. dev. of 7 runs, 10,000 loops each)\n"
     ]
    }
   ],
   "source": [
    "%timeit for i in range(1000): ex_iTuple.get(i)\n",
    "%timeit for i in range(1000): ex_iTuple.data[i]\n",
    "%timeit for i in range(1000): ex_list[i]\n",
    "%timeit for i in range(1000): ex_iTuple[i] # gotcha, probably avoid this :("
   ]
  },
  {
   "cell_type": "markdown",
   "metadata": {},
   "source": [
    "Elementwise function application with .map() is slightly faster than with a list comprehension:"
   ]
  },
  {
   "cell_type": "code",
   "execution_count": 10,
   "metadata": {},
   "outputs": [
    {
     "name": "stdout",
     "output_type": "stream",
     "text": [
      "72.2 µs ± 5.61 µs per loop (mean ± std. dev. of 7 runs, 10,000 loops each)\n",
      "75.7 µs ± 5.99 µs per loop (mean ± std. dev. of 7 runs, 10,000 loops each)\n",
      "62 µs ± 2.33 µs per loop (mean ± std. dev. of 7 runs, 10,000 loops each)\n"
     ]
    }
   ],
   "source": [
    "add_2 = functools.partial(operator.add, 2)\n",
    "\n",
    "%timeit xtuples.iTuple.range(1000).map(add_2)\n",
    "%timeit [add_2(x) for x in range(1000)]\n",
    "%timeit list(map(add_2, range(1000)))"
   ]
  },
  {
   "cell_type": "markdown",
   "metadata": {},
   "source": [
    "Both fold and cumulative fold are a fair bit faster than the equivalent for loops:"
   ]
  },
  {
   "cell_type": "code",
   "execution_count": 11,
   "metadata": {},
   "outputs": [
    {
     "name": "stdout",
     "output_type": "stream",
     "text": [
      "39.6 µs ± 4.33 µs per loop (mean ± std. dev. of 7 runs, 10,000 loops each)\n",
      "66.4 µs ± 5.65 µs per loop (mean ± std. dev. of 7 runs, 10,000 loops each)\n"
     ]
    }
   ],
   "source": [
    "def f_loop_fold():\n",
    "    acc = 0\n",
    "    for i in ex_list:\n",
    "        acc = operator.add(acc, i)\n",
    "    return acc\n",
    "\n",
    "%timeit ex_iTuple.fold(operator.add)\n",
    "%timeit f_loop_fold()"
   ]
  },
  {
   "cell_type": "code",
   "execution_count": 12,
   "metadata": {},
   "outputs": [
    {
     "name": "stdout",
     "output_type": "stream",
     "text": [
      "51.7 µs ± 5.11 µs per loop (mean ± std. dev. of 7 runs, 10,000 loops each)\n",
      "107 µs ± 4.44 µs per loop (mean ± std. dev. of 7 runs, 10,000 loops each)\n"
     ]
    }
   ],
   "source": [
    "def f_loop_cumfold():\n",
    "    res = []\n",
    "    acc = 0\n",
    "    for i in ex_list:\n",
    "        acc = operator.add(acc, i)\n",
    "        res.append(acc)\n",
    "    return res\n",
    "\n",
    "%timeit ex_iTuple.foldcum(operator.add)\n",
    "%timeit f_loop_cumfold()"
   ]
  },
  {
   "cell_type": "markdown",
   "metadata": {},
   "source": [
    "Though .filter() is slightly worse than both the for loop and list comprehension implementations:"
   ]
  },
  {
   "cell_type": "code",
   "execution_count": 15,
   "metadata": {},
   "outputs": [
    {
     "name": "stdout",
     "output_type": "stream",
     "text": [
      "119 µs ± 7.38 µs per loop (mean ± std. dev. of 7 runs, 10,000 loops each)\n",
      "109 µs ± 7.28 µs per loop (mean ± std. dev. of 7 runs, 10,000 loops each)\n",
      "93.8 µs ± 5.92 µs per loop (mean ± std. dev. of 7 runs, 10,000 loops each)\n"
     ]
    }
   ],
   "source": [
    "def f_loop_filter(f):\n",
    "    res = []\n",
    "    for i in ex_list:\n",
    "        if f(i):\n",
    "            res.append(i)\n",
    "    return res\n",
    "\n",
    "f = lambda x: x % 2 == 0\n",
    "\n",
    "%timeit ex_iTuple.filter(f)\n",
    "%timeit f_loop_filter(f)\n",
    "%timeit [v for v in ex_list if f(v)]"
   ]
  },
  {
   "cell_type": "markdown",
   "metadata": {},
   "source": []
  },
  {
   "cell_type": "code",
   "execution_count": null,
   "metadata": {},
   "outputs": [],
   "source": [
    "# append, extend, prepend, pretend, flatten, first, last, slicing (eg. take, tail, etc.)"
   ]
  },
  {
   "cell_type": "markdown",
   "metadata": {},
   "source": []
  },
  {
   "cell_type": "code",
   "execution_count": null,
   "metadata": {},
   "outputs": [],
   "source": []
  },
  {
   "cell_type": "markdown",
   "metadata": {},
   "source": [
    "#### Named Tuple\n",
    "\n",
    "As nTuple.decorate only adds a couple of methods to the built-in NamedTuple, performance is also very strong.\n",
    "\n",
    "For instance, NamedTuples are significantly more memory efficient than dicts or vanilla class instances:"
   ]
  },
  {
   "cell_type": "code",
   "execution_count": 24,
   "metadata": {},
   "outputs": [],
   "source": [
    "@xtuples.nTuple.decorate\n",
    "class Example(typing.NamedTuple):\n",
    "    x: int\n",
    "    s: str"
   ]
  },
  {
   "cell_type": "code",
   "execution_count": 25,
   "metadata": {},
   "outputs": [],
   "source": [
    "class Example_Cls:\n",
    "    x: int\n",
    "    s: str\n",
    "    \n",
    "    def __init__(self, x, s):\n",
    "        self.x = x\n",
    "        self.s = s\n",
    "        "
   ]
  },
  {
   "cell_type": "code",
   "execution_count": 25,
   "metadata": {},
   "outputs": [],
   "source": [
    "# vs dataclass?"
   ]
  },
  {
   "cell_type": "code",
   "execution_count": 26,
   "metadata": {},
   "outputs": [
    {
     "data": {
      "text/plain": [
       "{'nTuple': 144, 'dict': 432, 'cls': 352}"
      ]
     },
     "execution_count": 26,
     "metadata": {},
     "output_type": "execute_result"
    }
   ],
   "source": [
    "      \n",
    "ex_nTuple = Example(1, \"a\")\n",
    "ex_dict = dict(x=1, s=\"a\")\n",
    "ex_cls = Example_Cls(1, \"a\")\n",
    "\n",
    "dict(\n",
    "    nTuple=asizeof(ex_nTuple),\n",
    "    dict=asizeof(ex_dict),\n",
    "    cls=asizeof(ex_cls),\n",
    ")"
   ]
  },
  {
   "cell_type": "markdown",
   "metadata": {},
   "source": [
    "Whilst providing comparable field access times:"
   ]
  },
  {
   "cell_type": "code",
   "execution_count": 28,
   "metadata": {},
   "outputs": [
    {
     "name": "stdout",
     "output_type": "stream",
     "text": [
      "34.4 ns ± 6.95 ns per loop (mean ± std. dev. of 7 runs, 10,000,000 loops each)\n",
      "33.7 ns ± 5.55 ns per loop (mean ± std. dev. of 7 runs, 10,000,000 loops each)\n",
      "39.6 ns ± 4.39 ns per loop (mean ± std. dev. of 7 runs, 10,000,000 loops each)\n",
      "33.2 ns ± 3.59 ns per loop (mean ± std. dev. of 7 runs, 10,000,000 loops each)\n"
     ]
    }
   ],
   "source": [
    "%timeit ex_nTuple.x\n",
    "%timeit ex_nTuple[0]\n",
    "%timeit ex_dict[\"x\"]\n",
    "%timeit ex_cls.x"
   ]
  },
  {
   "cell_type": "markdown",
   "metadata": {},
   "source": [
    "Sorting that does what you'd expect (versus dict, not sortable):"
   ]
  },
  {
   "cell_type": "code",
   "execution_count": null,
   "metadata": {},
   "outputs": [],
   "source": []
  },
  {
   "cell_type": "markdown",
   "metadata": {},
   "source": [
    "Hashable:"
   ]
  },
  {
   "cell_type": "code",
   "execution_count": null,
   "metadata": {},
   "outputs": [],
   "source": []
  },
  {
   "cell_type": "markdown",
   "metadata": {},
   "source": [
    "When used with iTuple, also *recursively* hashable:"
   ]
  },
  {
   "cell_type": "code",
   "execution_count": null,
   "metadata": {},
   "outputs": [],
   "source": []
  },
  {
   "cell_type": "markdown",
   "metadata": {},
   "source": [
    "Also, even more efficient in tuple (because a constant?):"
   ]
  },
  {
   "cell_type": "code",
   "execution_count": null,
   "metadata": {},
   "outputs": [],
   "source": []
  },
  {
   "cell_type": "markdown",
   "metadata": {},
   "source": [
    "#### Eager evaluation\n",
    "\n",
    "The one performance caveat is that many methods which are canonically lazy, returning generators, are instead treated eagerly - however this is something I am actively working on.\n",
    "\n",
    "### xtuples.json\n",
    "\n",
    "xtuples.json provides base classes for weakly-rich json encoding / decoding (rich in that classes are preserved, weak in that this is based on class name alone and no further checks or guarantees are provided).\n",
    "\n",
    "## License\n",
    "\n",
    "`xtuples` is distributed under the terms of the [MIT](https://spdx.org/licenses/MIT.html) license.\n"
   ]
  },
  {
   "cell_type": "markdown",
   "metadata": {},
   "source": [
    "#### Auto reload"
   ]
  },
  {
   "cell_type": "code",
   "execution_count": 14,
   "metadata": {},
   "outputs": [
    {
     "data": {
      "text/plain": [
       "<module 'src.xtuples' from 'C:\\\\xtuples\\\\src\\\\xtuples\\\\__init__.py'>"
      ]
     },
     "execution_count": 14,
     "metadata": {},
     "output_type": "execute_result"
    }
   ],
   "source": [
    "%load_ext autoreload\n",
    "%autoreload 2\n",
    "import importlib\n",
    "importlib.reload(xtuples)"
   ]
  },
  {
   "cell_type": "code",
   "execution_count": null,
   "metadata": {},
   "outputs": [],
   "source": []
  }
 ],
 "metadata": {
  "interpreter": {
   "hash": "63fd5069d213b44bf678585dea6b12cceca9941eaf7f819626cde1f2670de90d"
  },
  "kernelspec": {
   "display_name": "Python 3 (ipykernel)",
   "language": "python",
   "name": "python3"
  },
  "language_info": {
   "codemirror_mode": {
    "name": "ipython",
    "version": 3
   },
   "file_extension": ".py",
   "mimetype": "text/x-python",
   "name": "python",
   "nbconvert_exporter": "python",
   "pygments_lexer": "ipython3",
   "version": "3.9.0"
  }
 },
 "nbformat": 4,
 "nbformat_minor": 4
}
